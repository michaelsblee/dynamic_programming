{
 "cells": [
  {
   "cell_type": "markdown",
   "id": "5b932111-0d78-448b-a28f-1fd5c9a839f7",
   "metadata": {},
   "source": [
    "### Rod-cutting"
   ]
  },
  {
   "cell_type": "code",
   "execution_count": 57,
   "id": "49a00b02-a8f0-410a-9023-894c627ead0f",
   "metadata": {},
   "outputs": [],
   "source": [
    "p = [None,1,5,8,9,10,17,17,20,24,30]\n",
    "n = 10"
   ]
  },
  {
   "cell_type": "code",
   "execution_count": 33,
   "id": "3e40bffc-0496-4659-8f6e-b8c910e7c39e",
   "metadata": {},
   "outputs": [],
   "source": [
    "def cut_rod(p,n):\n",
    "    if n==0:\n",
    "        return 0\n",
    "    q = float('-inf')\n",
    "    for i in range(1,n+1):\n",
    "        q = max(q,p[i] + cut_rod(p,n-i))\n",
    "    return q"
   ]
  },
  {
   "cell_type": "code",
   "execution_count": 43,
   "id": "d8af2b69-5625-49d6-acfd-b35c2554e6c9",
   "metadata": {},
   "outputs": [],
   "source": [
    "def memoized_cut_rod(p,n):\n",
    "    r = [0] * (n+1)\n",
    "    for i in range(n+1):\n",
    "        r[i] = float('-inf')\n",
    "    return memoized_cut_rod_aux(p,n,r)"
   ]
  },
  {
   "cell_type": "code",
   "execution_count": 44,
   "id": "4e03596d-77ae-46ba-8bc0-cdcbec91c9ba",
   "metadata": {},
   "outputs": [],
   "source": [
    "def memoized_cut_rod_aux(p,n,r):\n",
    "    if r[n] >= 0:\n",
    "        return r[n]\n",
    "    if n==0:\n",
    "        q = 0\n",
    "    else:\n",
    "        q = float('-inf')\n",
    "        for i in range(1,n+1):\n",
    "            q = max(q,p[i]+memoized_cut_rod_aux(p,n-i,r))\n",
    "    r[n] = q\n",
    "    return q"
   ]
  },
  {
   "cell_type": "code",
   "execution_count": 45,
   "id": "519dc3fa-41ed-47dc-819f-c7f106891ed3",
   "metadata": {},
   "outputs": [],
   "source": [
    "p = [None,1,5,8,9,10,17,17,20,24,30]\n",
    "n = 10"
   ]
  },
  {
   "cell_type": "code",
   "execution_count": 48,
   "id": "d58c1851-c44d-467f-9cd5-fdf30817be91",
   "metadata": {},
   "outputs": [
    {
     "name": "stdout",
     "output_type": "stream",
     "text": [
      "1\n",
      "5\n",
      "8\n",
      "10\n",
      "13\n",
      "17\n",
      "18\n",
      "22\n",
      "25\n",
      "30\n"
     ]
    }
   ],
   "source": [
    "for i in range(1,n+1):\n",
    "    print(memoized_cut_rod(p,i))"
   ]
  },
  {
   "cell_type": "code",
   "execution_count": 51,
   "id": "d74546d4-c584-4a31-975c-a3a76a07ba80",
   "metadata": {},
   "outputs": [],
   "source": [
    "def bottom_up_cut_rod(p,n):\n",
    "    r = [0] * (n+1)\n",
    "    r[0] = 0\n",
    "    for j in range(1,n+1):\n",
    "        q=float('-inf')\n",
    "        for i in range(1,j+1):\n",
    "            q=max(q,p[i]+r[j-i])\n",
    "        r[j]=q\n",
    "    return r[n]"
   ]
  },
  {
   "cell_type": "code",
   "execution_count": 52,
   "id": "5e534d02-6c3a-4fda-956e-5724e57cd055",
   "metadata": {},
   "outputs": [
    {
     "name": "stdout",
     "output_type": "stream",
     "text": [
      "1\n",
      "5\n",
      "8\n",
      "10\n",
      "13\n",
      "17\n",
      "18\n",
      "22\n",
      "25\n",
      "30\n"
     ]
    }
   ],
   "source": [
    "for i in range(1,n+1):\n",
    "    print(bottom_up_cut_rod(p,i))"
   ]
  },
  {
   "cell_type": "code",
   "execution_count": 53,
   "id": "7e59afc3-cb5a-4fc2-aeac-d2c8826691cb",
   "metadata": {},
   "outputs": [],
   "source": [
    "def extended_bottom_up_cut_rod(p, n):\n",
    "    \"\"\"\n",
    "    p: list of length n where for each i in n, p[i] is price\n",
    "    n: length of rod\n",
    "    \"\"\"\n",
    "\n",
    "    r = [0] * (n+1)\n",
    "    s = [0] * (n+1)\n",
    "    r[0] = 0\n",
    "    for j in range(1,n+1):\n",
    "        q=float('-inf')\n",
    "        for i in range(1,j+1):\n",
    "            if q<(p[i] + r[j-i]):\n",
    "                q=p[i]+r[j-i]\n",
    "                s[j]=i\n",
    "        r[j]=q\n",
    "    return r,s"
   ]
  },
  {
   "cell_type": "code",
   "execution_count": 54,
   "id": "c8cb800a-8987-4deb-9c98-4e9f3c4d0968",
   "metadata": {},
   "outputs": [
    {
     "name": "stdout",
     "output_type": "stream",
     "text": [
      "([0, 1], [0, 1])\n",
      "([0, 1, 5], [0, 1, 2])\n",
      "([0, 1, 5, 8], [0, 1, 2, 3])\n",
      "([0, 1, 5, 8, 10], [0, 1, 2, 3, 2])\n",
      "([0, 1, 5, 8, 10, 13], [0, 1, 2, 3, 2, 2])\n",
      "([0, 1, 5, 8, 10, 13, 17], [0, 1, 2, 3, 2, 2, 6])\n",
      "([0, 1, 5, 8, 10, 13, 17, 18], [0, 1, 2, 3, 2, 2, 6, 1])\n",
      "([0, 1, 5, 8, 10, 13, 17, 18, 22], [0, 1, 2, 3, 2, 2, 6, 1, 2])\n",
      "([0, 1, 5, 8, 10, 13, 17, 18, 22, 25], [0, 1, 2, 3, 2, 2, 6, 1, 2, 3])\n",
      "([0, 1, 5, 8, 10, 13, 17, 18, 22, 25, 30], [0, 1, 2, 3, 2, 2, 6, 1, 2, 3, 10])\n"
     ]
    }
   ],
   "source": [
    "for i in range(1,n+1):\n",
    "    print(extended_bottom_up_cut_rod(p,i))"
   ]
  },
  {
   "cell_type": "markdown",
   "id": "78a60cbf-4df6-42c0-a71d-f10550265a16",
   "metadata": {},
   "source": [
    "### Matrix-chain multiplication"
   ]
  },
  {
   "cell_type": "code",
   "execution_count": 1,
   "id": "f424569d-5b63-4de1-835c-664ff1404aae",
   "metadata": {},
   "outputs": [],
   "source": [
    "import numpy as np"
   ]
  },
  {
   "cell_type": "code",
   "execution_count": 22,
   "id": "e86e14b4-696a-409e-8637-3953a1399b8c",
   "metadata": {},
   "outputs": [],
   "source": [
    "def matrix_multiply(A, B):\n",
    "    dim_A = np.shape(A)\n",
    "    dim_B = np.shape(B)\n",
    "\n",
    "    if dim_A[1] != dim_B[0]:\n",
    "        return \"incompatible dimensions\"\n",
    "\n",
    "    C = np.empty([dim_A[0], dim_B[1]])\n",
    "    for i in range(dim_A[0]):\n",
    "        for j in range(dim_B[1]):\n",
    "            C[i,j] = 0\n",
    "            for k in range(dim_A[1]):\n",
    "                C[i,j] = C[i,j] + A[i,k] * B[k,j]\n",
    "    return C"
   ]
  },
  {
   "cell_type": "code",
   "execution_count": 28,
   "id": "57664fa5-b6f5-494b-899b-353f3f3cdff2",
   "metadata": {},
   "outputs": [],
   "source": [
    "def matrix_chain_order(p):\n",
    "    \"\"\"\n",
    "    p is a list of ints, where (p[i-1],p[i]) represents dimensions of matrix A_i for i = 1,2,...n\n",
    "    \"\"\"\n",
    "    n = len(p) - 1 # n is number of matrices\n",
    "\n",
    "    m = np.ones((n,n)) # auxiliary table to store the m[i,j] costs\n",
    "    s = np.zeros((n-1,n-1))# auxiliary table to record which idx of k achieved the optimal cost in computing m[i,j]\n",
    "\n",
    "    for i in range(n):\n",
    "        m[i,i] = 0\n",
    "    for l in range(2,n+1): # l is chain length\n",
    "        for i in range(n-l+2):\n",
    "            j = i + l - 1\n",
    "            print(j)\n",
    "            m[i,j] = float('inf')\n",
    "            for k in range(i,j):\n",
    "                q = m[i,k] + m[k+1,j] + p[i-1]*p[k]*p[j]\n",
    "                if q < m[i,j]:\n",
    "                    m[i,j] = q\n",
    "                    s[i,j] = k\n",
    "    return m,s"
   ]
  },
  {
   "cell_type": "code",
   "execution_count": 29,
   "id": "ef5cfc0c-a120-41e3-abf0-e8474808b1fc",
   "metadata": {},
   "outputs": [
    {
     "data": {
      "text/plain": [
       "array([[ 0., inf,  1.,  1.,  1.,  1.],\n",
       "       [ 1.,  0., inf,  1.,  1.,  1.],\n",
       "       [ 1.,  1.,  0., inf,  1.,  1.],\n",
       "       [ 1.,  1.,  1.,  0., inf,  1.],\n",
       "       [ 1.,  1.,  1.,  1.,  0., inf],\n",
       "       [ 1.,  1.,  1.,  1.,  1.,  0.]])"
      ]
     },
     "execution_count": 29,
     "metadata": {},
     "output_type": "execute_result"
    }
   ],
   "source": [
    "m"
   ]
  },
  {
   "cell_type": "code",
   "execution_count": 30,
   "id": "35a6e15d-7470-4258-9d23-8a98d37c08c6",
   "metadata": {},
   "outputs": [
    {
     "data": {
      "text/plain": [
       "array([[0., 0., 0., 0.],\n",
       "       [0., 0., 0., 0.],\n",
       "       [0., 0., 0., 0.],\n",
       "       [0., 0., 0., 0.],\n",
       "       [0., 0., 0., 0.]])"
      ]
     },
     "execution_count": 30,
     "metadata": {},
     "output_type": "execute_result"
    }
   ],
   "source": [
    "s"
   ]
  },
  {
   "cell_type": "code",
   "execution_count": 8,
   "id": "1bc819f2-17a3-49c4-b739-12e250d4ae8b",
   "metadata": {},
   "outputs": [
    {
     "data": {
      "text/plain": [
       "array([[0., 1., 1., 1., 1., 1., 1., 1., 1., 1.],\n",
       "       [1., 0., 1., 1., 1., 1., 1., 1., 1., 1.],\n",
       "       [1., 1., 0., 1., 1., 1., 1., 1., 1., 1.],\n",
       "       [1., 1., 1., 0., 1., 1., 1., 1., 1., 1.],\n",
       "       [1., 1., 1., 1., 0., 1., 1., 1., 1., 1.],\n",
       "       [1., 1., 1., 1., 1., 0., 1., 1., 1., 1.],\n",
       "       [1., 1., 1., 1., 1., 1., 0., 1., 1., 1.],\n",
       "       [1., 1., 1., 1., 1., 1., 1., 0., 1., 1.],\n",
       "       [1., 1., 1., 1., 1., 1., 1., 1., 0., 1.],\n",
       "       [1., 1., 1., 1., 1., 1., 1., 1., 1., 0.]])"
      ]
     },
     "execution_count": 8,
     "metadata": {},
     "output_type": "execute_result"
    }
   ],
   "source": [
    "for i in range(10):\n",
    "    m[i,i] = 0\n",
    "m"
   ]
  },
  {
   "cell_type": "code",
   "execution_count": 11,
   "id": "d7efccee-ddff-49bf-b454-1701304a90d3",
   "metadata": {},
   "outputs": [],
   "source": [
    "    for l in range(1,n): # l is chain length\n",
    "        for i in range(n-l+1):\n",
    "            j = i + l - 1\n",
    "            m[i,j] = float('inf')"
   ]
  },
  {
   "cell_type": "code",
   "execution_count": 12,
   "id": "98dcba4a-6a09-4e9b-890a-b64eb1cbf95f",
   "metadata": {},
   "outputs": [
    {
     "data": {
      "text/plain": [
       "array([[inf, inf, inf, inf, inf, inf, inf, inf, inf,  1.],\n",
       "       [ 1., inf, inf, inf, inf, inf, inf, inf, inf, inf],\n",
       "       [ 1.,  1., inf, inf, inf, inf, inf, inf, inf, inf],\n",
       "       [ 1.,  1.,  1., inf, inf, inf, inf, inf, inf, inf],\n",
       "       [ 1.,  1.,  1.,  1., inf, inf, inf, inf, inf, inf],\n",
       "       [ 1.,  1.,  1.,  1.,  1., inf, inf, inf, inf, inf],\n",
       "       [ 1.,  1.,  1.,  1.,  1.,  1., inf, inf, inf, inf],\n",
       "       [ 1.,  1.,  1.,  1.,  1.,  1.,  1., inf, inf, inf],\n",
       "       [ 1.,  1.,  1.,  1.,  1.,  1.,  1.,  1., inf, inf],\n",
       "       [ 1.,  1.,  1.,  1.,  1.,  1.,  1.,  1.,  1., inf]])"
      ]
     },
     "execution_count": 12,
     "metadata": {},
     "output_type": "execute_result"
    }
   ],
   "source": [
    "m"
   ]
  },
  {
   "cell_type": "code",
   "execution_count": 21,
   "id": "313eccc2-e53c-41e6-8521-6ff6924ba64b",
   "metadata": {},
   "outputs": [
    {
     "name": "stdout",
     "output_type": "stream",
     "text": [
      "1\n",
      "2\n",
      "3\n",
      "4\n",
      "5\n",
      "6\n"
     ]
    },
    {
     "ename": "IndexError",
     "evalue": "index 6 is out of bounds for axis 1 with size 6",
     "output_type": "error",
     "traceback": [
      "\u001b[0;31m---------------------------------------------------------------------------\u001b[0m",
      "\u001b[0;31mIndexError\u001b[0m                                Traceback (most recent call last)",
      "Cell \u001b[0;32mIn[21], line 12\u001b[0m\n\u001b[1;32m     10\u001b[0m j \u001b[38;5;241m=\u001b[39m i \u001b[38;5;241m+\u001b[39m l \u001b[38;5;241m-\u001b[39m \u001b[38;5;241m1\u001b[39m\n\u001b[1;32m     11\u001b[0m \u001b[38;5;28mprint\u001b[39m(j)\n\u001b[0;32m---> 12\u001b[0m \u001b[43mm\u001b[49m\u001b[43m[\u001b[49m\u001b[43mi\u001b[49m\u001b[43m,\u001b[49m\u001b[43mj\u001b[49m\u001b[43m]\u001b[49m \u001b[38;5;241m=\u001b[39m \u001b[38;5;28mfloat\u001b[39m(\u001b[38;5;124m'\u001b[39m\u001b[38;5;124minf\u001b[39m\u001b[38;5;124m'\u001b[39m)\n\u001b[1;32m     13\u001b[0m \u001b[38;5;28;01mfor\u001b[39;00m k \u001b[38;5;129;01min\u001b[39;00m \u001b[38;5;28mrange\u001b[39m(i,j\u001b[38;5;241m+\u001b[39m\u001b[38;5;241m1\u001b[39m):\n\u001b[1;32m     14\u001b[0m     q \u001b[38;5;241m=\u001b[39m m[i,k] \u001b[38;5;241m+\u001b[39m m[k,j] \u001b[38;5;241m+\u001b[39m p[i\u001b[38;5;241m-\u001b[39m\u001b[38;5;241m1\u001b[39m]\u001b[38;5;241m*\u001b[39mp[k]\u001b[38;5;241m*\u001b[39mp[j]\n",
      "\u001b[0;31mIndexError\u001b[0m: index 6 is out of bounds for axis 1 with size 6"
     ]
    }
   ],
   "source": [
    "    n = len(p) - 1 # n is number of matrices\n",
    "\n",
    "    m = np.ones((n,n)) # auxiliary table to store the m[i,j] costs\n",
    "    s = np.zeros((n-1,n-2)) # auxiliary table to record which idx of k achieved the optimal cost in computing m[i,j]\n",
    "\n",
    "    for i in range(n):\n",
    "        m[i,i] = 0\n",
    "    for l in range(2,n+1): # l is chain length\n",
    "        for i in range(n-l+2):\n",
    "            j = i + l - 1\n",
    "            print(j)\n",
    "            m[i,j] = float('inf')\n",
    "            for k in range(i,j+1):\n",
    "                q = m[i,k] + m[k,j] + p[i-1]*p[k]*p[j]"
   ]
  },
  {
   "cell_type": "code",
   "execution_count": 14,
   "id": "7ecab9c7-ae46-4eb6-8420-d7d98ce0ed2e",
   "metadata": {},
   "outputs": [],
   "source": [
    "p = [30,35,15,5,10,29,25]"
   ]
  },
  {
   "cell_type": "code",
   "execution_count": 17,
   "id": "f07ade78-e183-4221-a952-351501b06db2",
   "metadata": {},
   "outputs": [
    {
     "ename": "IndexError",
     "evalue": "list index out of range",
     "output_type": "error",
     "traceback": [
      "\u001b[0;31m---------------------------------------------------------------------------\u001b[0m",
      "\u001b[0;31mIndexError\u001b[0m                                Traceback (most recent call last)",
      "Cell \u001b[0;32mIn[17], line 6\u001b[0m\n\u001b[1;32m      4\u001b[0m m[i,j] \u001b[38;5;241m=\u001b[39m \u001b[38;5;28mfloat\u001b[39m(\u001b[38;5;124m'\u001b[39m\u001b[38;5;124minf\u001b[39m\u001b[38;5;124m'\u001b[39m)\n\u001b[1;32m      5\u001b[0m \u001b[38;5;28;01mfor\u001b[39;00m k \u001b[38;5;129;01min\u001b[39;00m \u001b[38;5;28mrange\u001b[39m(i,j):\n\u001b[0;32m----> 6\u001b[0m     q \u001b[38;5;241m=\u001b[39m m[i,k] \u001b[38;5;241m+\u001b[39m m[k\u001b[38;5;241m+\u001b[39m\u001b[38;5;241m1\u001b[39m,j] \u001b[38;5;241m+\u001b[39m p[i\u001b[38;5;241m-\u001b[39m\u001b[38;5;241m1\u001b[39m]\u001b[38;5;241m*\u001b[39mp[k]\u001b[38;5;241m*\u001b[39m\u001b[43mp\u001b[49m\u001b[43m[\u001b[49m\u001b[43mj\u001b[49m\u001b[43m]\u001b[49m\n",
      "\u001b[0;31mIndexError\u001b[0m: list index out of range"
     ]
    }
   ],
   "source": [
    "    for l in range(2,n+1): # l is chain length\n",
    "        for i in range(n-l+2):\n",
    "            j = i + l - 1\n",
    "            m[i,j] = float('inf')\n",
    "            for k in range(i,j):\n",
    "                q = m[i,k] + m[k+1,j] + p[i-1]*p[k]*p[j]"
   ]
  },
  {
   "cell_type": "code",
   "execution_count": null,
   "id": "9156adc8-d6a5-48ee-8cb9-449ba7beaed7",
   "metadata": {},
   "outputs": [],
   "source": []
  }
 ],
 "metadata": {
  "kernelspec": {
   "display_name": "Python 3 (ipykernel)",
   "language": "python",
   "name": "python3"
  },
  "language_info": {
   "codemirror_mode": {
    "name": "ipython",
    "version": 3
   },
   "file_extension": ".py",
   "mimetype": "text/x-python",
   "name": "python",
   "nbconvert_exporter": "python",
   "pygments_lexer": "ipython3",
   "version": "3.10.9"
  }
 },
 "nbformat": 4,
 "nbformat_minor": 5
}
